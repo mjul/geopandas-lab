{
 "cells": [
  {
   "cell_type": "markdown",
   "source": [
    "# Map Styles\n",
    "\n",
    "This notebook shows how to use different map styles."
   ],
   "metadata": {
    "collapsed": false
   }
  },
  {
   "cell_type": "code",
   "execution_count": null,
   "outputs": [],
   "source": [
    "import requests\n",
    "import pandas as pd\n",
    "import matplotlib.pyplot as plt\n",
    "\n",
    "import geopandas\n",
    "import contextily"
   ],
   "metadata": {
    "collapsed": false,
    "pycharm": {
     "name": "#%%\n"
    }
   }
  },
  {
   "cell_type": "code",
   "execution_count": null,
   "outputs": [],
   "source": [
    "%matplotlib inline\n",
    "\n",
    "import matplotlib as mpl\n",
    "mpl.rcParams[\"figure.facecolor\"]  = '0.95'\n",
    "mpl.rcParams[\"figure.figsize\"]  = (10,10)"
   ],
   "metadata": {
    "collapsed": false,
    "pycharm": {
     "name": "#%%\n"
    }
   }
  },
  {
   "cell_type": "markdown",
   "source": [
    "## Prepare some data\n",
    "\n",
    "Let's get some test data from the Danish Addresses Web API, DAWA.\n",
    "We will pick the locations on Vestmannagade, a short street in Copenhagen."
   ],
   "metadata": {
    "collapsed": false
   }
  },
  {
   "cell_type": "code",
   "execution_count": null,
   "outputs": [],
   "source": [
    "r = requests.get('https://dawa.aws.dk/adresser?postnr=2300&vejnavn=Vestmannagade&struktur=mini')\n",
    "address_list = r.json()"
   ],
   "metadata": {
    "collapsed": false,
    "pycharm": {
     "name": "#%%\n"
    }
   }
  },
  {
   "cell_type": "code",
   "execution_count": null,
   "outputs": [],
   "source": [
    "df = pd.DataFrame.from_records(address_list, columns=['x','y'])\n",
    "df.head()"
   ],
   "metadata": {
    "collapsed": false,
    "pycharm": {
     "name": "#%%\n"
    }
   }
  },
  {
   "cell_type": "code",
   "execution_count": null,
   "outputs": [],
   "source": [
    "# DAWA data have x, y WGS 84 format, using the EPSG:4326 coordinate references system (crs)\n",
    "\n",
    "gdf = geopandas.GeoDataFrame(df,\n",
    "                             crs='EPSG:4326',\n",
    "                             geometry=geopandas.points_from_xy(df.x, df.y)\n",
    "                             )\n",
    "\n",
    "print(gdf.head())\n"
   ],
   "metadata": {
    "collapsed": false,
    "pycharm": {
     "name": "#%%\n"
    }
   }
  },
  {
   "cell_type": "markdown",
   "source": [
    "## Hello, world\n",
    "Let's plot these using the built-in low-res map."
   ],
   "metadata": {
    "collapsed": false,
    "pycharm": {
     "name": "#%% md\n"
    }
   }
  },
  {
   "cell_type": "code",
   "execution_count": null,
   "outputs": [],
   "source": [
    "world = geopandas.read_file(geopandas.datasets.get_path('naturalearth_lowres'))\n",
    "ax = world[world.name == 'Denmark'].plot(color='white', edgecolor='black')\n",
    "gdf.plot(ax=ax, color='red')\n",
    "plt.show()"
   ],
   "metadata": {
    "collapsed": false,
    "pycharm": {
     "name": "#%%\n"
    }
   }
  },
  {
   "cell_type": "markdown",
   "source": [
    "## Adding Base Maps\n",
    "This will look much nicer. `contextily` provides convenient access to a range of map tiles."
   ],
   "metadata": {
    "collapsed": false,
    "pycharm": {
     "name": "#%% md\n"
    }
   }
  },
  {
   "cell_type": "code",
   "execution_count": null,
   "outputs": [],
   "source": [
    "def plot_with_style(geopandas_dataframe, source):\n",
    "    ax = geopandas_dataframe.plot(color='red', alpha=0.5)\n",
    "    contextily.add_basemap(ax, crs=gdf.crs.to_string(),\n",
    "                           source=source)\n",
    "    ax.set_title(source.name)"
   ],
   "metadata": {
    "collapsed": false,
    "pycharm": {
     "name": "#%%\n"
    }
   }
  },
  {
   "cell_type": "code",
   "execution_count": null,
   "outputs": [],
   "source": [
    "plot_with_style(gdf, contextily.providers.OpenStreetMap.Mapnik)"
   ],
   "metadata": {
    "collapsed": false,
    "pycharm": {
     "name": "#%%\n"
    }
   }
  },
  {
   "cell_type": "code",
   "execution_count": null,
   "outputs": [],
   "source": [
    "plot_with_style(gdf, contextily.providers.Stamen.Toner)"
   ],
   "metadata": {
    "collapsed": false,
    "pycharm": {
     "name": "#%%\n"
    }
   }
  },
  {
   "cell_type": "code",
   "execution_count": null,
   "outputs": [],
   "source": [
    "plot_with_style(gdf, contextily.providers.Wikimedia)"
   ],
   "metadata": {
    "collapsed": false,
    "pycharm": {
     "name": "#%%\n"
    }
   }
  },
  {
   "cell_type": "code",
   "execution_count": null,
   "outputs": [],
   "source": [
    "plot_with_style(gdf, contextily.providers.CartoDB.Voyager)"
   ],
   "metadata": {
    "collapsed": false,
    "pycharm": {
     "name": "#%%\n"
    }
   }
  },
  {
   "cell_type": "markdown",
   "source": [
    "## Zooming out a bit\n",
    "Let's zoom out to see a bit of the neighbourhood.\n",
    "We can use the `buffer` function to get the geometry of an area around the addresses."
   ],
   "metadata": {
    "collapsed": false,
    "pycharm": {
     "name": "#%% md\n"
    }
   }
  },
  {
   "cell_type": "code",
   "execution_count": null,
   "outputs": [],
   "source": [
    "buffer = gdf.buffer(distance=0.002)\n",
    "plot_with_style(buffer, contextily.providers.Wikimedia)"
   ],
   "metadata": {
    "collapsed": false,
    "pycharm": {
     "name": "#%%\n"
    }
   }
  },
  {
   "cell_type": "code",
   "execution_count": null,
   "outputs": [],
   "source": [
    "ax = gdf.plot(color='red', alpha=0.5)\n",
    "\n",
    "# We can use normal matplotlib manipulation of the x and y limits\n",
    "# to zoom out to the bounding box of the buffer\n",
    "ax.set_xlim(buffer.total_bounds[0], buffer.total_bounds[2])\n",
    "ax.set_ylim(buffer.total_bounds[1], buffer.total_bounds[3])\n",
    "\n",
    "contextily.add_basemap(ax, crs=gdf.crs.to_string(),\n",
    "                       source=contextily.providers.Wikimedia)"
   ],
   "metadata": {
    "collapsed": false,
    "pycharm": {
     "name": "#%%\n"
    }
   }
  },
  {
   "cell_type": "markdown",
   "source": [
    "### Arranging maps in grids\n",
    "The normal matplotlib subplot features are available since we can plot to an axis."
   ],
   "metadata": {
    "collapsed": false,
    "pycharm": {
     "name": "#%% md\n"
    }
   }
  },
  {
   "cell_type": "code",
   "execution_count": null,
   "outputs": [],
   "source": [
    "fig, axs = plt.subplots(nrows=2, ncols=2, sharex=True, sharey=True,\n",
    "                        subplot_kw={\n",
    "                            'xlim': (buffer.total_bounds[0], buffer.total_bounds[2]),\n",
    "                            'ylim': (buffer.total_bounds[1], buffer.total_bounds[3])\n",
    "                        },\n",
    "                        figsize=(10,10))\n",
    "\n",
    "for (ax, tile_source) in zip(axs.flat,\n",
    "                       [contextily.providers.Stamen.Watercolor,\n",
    "                        contextily.providers.Stamen.Toner,\n",
    "                        contextily.providers.Wikimedia,\n",
    "                        contextily.providers.CartoDB.Voyager]):\n",
    "    ax.set_title(tile_source.name)\n",
    "    gdf.plot(ax=ax, color='r', alpha=0.5)\n",
    "    contextily.add_basemap(ax, crs=gdf.crs.to_string(), source=tile_source)\n",
    "\n",
    "fig.suptitle('Subplots with different basemaps')"
   ],
   "metadata": {
    "collapsed": false,
    "pycharm": {
     "name": "#%%\n"
    }
   }
  },
  {
   "cell_type": "code",
   "execution_count": null,
   "outputs": [],
   "source": [
    "\n"
   ],
   "metadata": {
    "collapsed": false,
    "pycharm": {
     "name": "#%%\n"
    }
   }
  }
 ],
 "metadata": {
  "kernelspec": {
   "display_name": "Python 3",
   "language": "python",
   "name": "python3"
  },
  "language_info": {
   "codemirror_mode": {
    "name": "ipython",
    "version": 2
   },
   "file_extension": ".py",
   "mimetype": "text/x-python",
   "name": "python",
   "nbconvert_exporter": "python",
   "pygments_lexer": "ipython2",
   "version": "2.7.6"
  }
 },
 "nbformat": 4,
 "nbformat_minor": 0
}