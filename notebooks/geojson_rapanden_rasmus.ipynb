{
 "cells": [
  {
   "cell_type": "markdown",
   "metadata": {
    "collapsed": true,
    "pycharm": {
     "name": "#%% md\n"
    }
   },
   "source": [
    "# Rapanden Rasmus: using GeoJSON Geometries\n",
    "\n",
    "_Rapanden Rasmus fra Rinkenæs Sogn_ is the first line of a popular Danish song for children. It is about a duck named\n",
    "Rasmus from Rinkenæs Sogn (parish).\n",
    "\n",
    "Let's find out where it is.\n",
    "\n",
    "We will look up its geometry as GeoJSON and map it with GeoPandas."
   ]
  },
  {
   "cell_type": "code",
   "execution_count": null,
   "outputs": [],
   "source": [
    "%matplotlib inline\n",
    "\n",
    "import requests\n",
    "import pandas as pd\n",
    "import matplotlib.pyplot as plt\n",
    "\n",
    "import geopandas\n",
    "import contextily\n",
    "\n",
    "import matplotlib as mpl\n",
    "import urllib\n",
    "mpl.rcParams[\"figure.facecolor\"]  = '0.95'\n",
    "mpl.rcParams[\"figure.figsize\"]  = (10,10)"
   ],
   "metadata": {
    "collapsed": false,
    "pycharm": {
     "name": "#%%\n"
    }
   }
  },
  {
   "cell_type": "markdown",
   "source": [
    "## Prepare some data\n",
    "\n",
    "Let's get the parish from the Danish Addresses Web API, DAWA.\n",
    "First, we using the search API for parishes, then we get its geometry as GeoJSON\n",
    "with the right `format` parameter.\n",
    "\n",
    "See https://dawa.aws.dk/dok/api/generelt#dataformater for more information.\n",
    "The specific information about the data for a _sogn_ (parish) is\n",
    "available at https://dawa.aws.dk/dok/api/sogn#databeskrivelse."
   ],
   "metadata": {
    "collapsed": false,
    "pycharm": {
     "name": "#%% md\n"
    }
   }
  },
  {
   "cell_type": "code",
   "execution_count": null,
   "outputs": [],
   "source": [
    "r = requests.get('https://dawa.aws.dk/sogne?navn=Rinken%C3%A6s')\n",
    "rinkenaes_sogn = r.json()[0]\n",
    "rinkenaes_sogn_url = rinkenaes_sogn['href']\n",
    "print(rinkenaes_sogn_url)"
   ],
   "metadata": {
    "collapsed": false,
    "pycharm": {
     "name": "#%%\n"
    }
   }
  },
  {
   "cell_type": "code",
   "execution_count": null,
   "outputs": [],
   "source": [
    "# We can get it like so...\n",
    "r = requests.get(rinkenaes_sogn_url, params={'format':'geojson'})\n",
    "rinkenaes_geo_url = r.url\n",
    "rinkenaes_geo = r.json()\n",
    "print(rinkenaes_geo)"
   ],
   "metadata": {
    "collapsed": false,
    "pycharm": {
     "name": "#%%\n"
    }
   }
  },
  {
   "cell_type": "code",
   "execution_count": null,
   "outputs": [],
   "source": [
    "# ...but it is even easier to load it directly into GeoPandas from the URL\n",
    "gdf = geopandas.read_file(rinkenaes_geo_url)\n",
    "gdf.head()"
   ],
   "metadata": {
    "collapsed": false,
    "pycharm": {
     "name": "#%%\n"
    }
   }
  },
  {
   "cell_type": "markdown",
   "source": [
    "This is what _Rinkenæs Sogn_ looks like:"
   ],
   "metadata": {
    "collapsed": false,
    "pycharm": {
     "name": "#%% md\n"
    }
   }
  },
  {
   "cell_type": "code",
   "execution_count": null,
   "outputs": [],
   "source": [
    "ax = gdf.plot(color='b', alpha=0.5)\n",
    "contextily.add_basemap(ax, crs=gdf.crs.to_string(), source=contextily.providers.OpenStreetMap.Mapnik)\n",
    "ax.set_title('Rinkenæs Sogn');"
   ],
   "metadata": {
    "collapsed": false,
    "pycharm": {
     "name": "#%%\n"
    }
   }
  },
  {
   "cell_type": "markdown",
   "source": [
    "It would be nice to add some context, let's get its _kommune_, the municipality."
   ],
   "metadata": {
    "collapsed": false,
    "pycharm": {
     "name": "#%% md\n"
    }
   }
  },
  {
   "cell_type": "code",
   "execution_count": null,
   "outputs": [],
   "source": [
    "r = requests.get('https://dawa.aws.dk/kommuner/reverse', params={'x': gdf.visueltcenter_x[0],\n",
    "                                                                 'y': gdf.visueltcenter_y[0]})\n",
    "kommune = r.json()\n",
    "print(kommune['navn'], kommune['href'])"
   ],
   "metadata": {
    "collapsed": false,
    "pycharm": {
     "name": "#%%\n"
    }
   }
  },
  {
   "cell_type": "code",
   "execution_count": null,
   "outputs": [],
   "source": [
    "kommune_geo_url = requests.Request('GET', kommune['href'], params={'format': 'geojson'}).prepare().url\n",
    "kommune_gdf = geopandas.read_file(kommune_geo_url)"
   ],
   "metadata": {
    "collapsed": false,
    "pycharm": {
     "name": "#%%\n"
    }
   }
  },
  {
   "cell_type": "code",
   "execution_count": null,
   "outputs": [],
   "source": [
    "ax = kommune_gdf.plot(alpha=.2, edgecolor='k')\n",
    "gdf.plot(ax=ax, color='b', alpha=0.5)\n",
    "contextily.add_basemap(ax, crs=gdf.crs.to_string(), source=contextily.providers.OpenStreetMap.Mapnik)\n",
    "ax.text(gdf.visueltcenter_x[0], gdf.visueltcenter_y[0], s=gdf.navn[0])\n",
    "ax.text(kommune_gdf.visueltcenter_x[0], kommune_gdf.visueltcenter_y[0], s=kommune_gdf.navn[0])\n",
    "ax.set_title(f'Rinkenæs Sogn in {kommune[\"navn\"]} municipality');"
   ],
   "metadata": {
    "collapsed": false,
    "pycharm": {
     "name": "#%%\n"
    }
   }
  },
  {
   "cell_type": "code",
   "execution_count": null,
   "outputs": [],
   "source": [
    "\n"
   ],
   "metadata": {
    "collapsed": false,
    "pycharm": {
     "name": "#%%\n"
    }
   }
  }
 ],
 "metadata": {
  "kernelspec": {
   "display_name": "Python 3",
   "language": "python",
   "name": "python3"
  },
  "language_info": {
   "codemirror_mode": {
    "name": "ipython",
    "version": 2
   },
   "file_extension": ".py",
   "mimetype": "text/x-python",
   "name": "python",
   "nbconvert_exporter": "python",
   "pygments_lexer": "ipython2",
   "version": "2.7.6"
  }
 },
 "nbformat": 4,
 "nbformat_minor": 0
}