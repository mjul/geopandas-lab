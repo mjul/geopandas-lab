{
 "cells": [
  {
   "cell_type": "markdown",
   "metadata": {
    "collapsed": true,
    "pycharm": {
     "name": "#%% md\n"
    }
   },
   "source": [
    "# Rapanden Rasmus: using GeoJSON Geometries\n",
    "\n",
    "_Rapanden Rasmus fra Rinkenæs Sogn_ is the first line of a popular Danish song for children.\n",
    "\n",
    "Rinkenæs Sogn, where the duck Rasmus is from, is a parish.\n",
    "Let's look up its geometry as GeoJSON and plot it with GeoPandas to see where it is."
   ]
  },
  {
   "cell_type": "code",
   "execution_count": null,
   "outputs": [],
   "source": [
    "%matplotlib inline\n",
    "\n",
    "import requests\n",
    "import pandas as pd\n",
    "import matplotlib.pyplot as plt\n",
    "\n",
    "import geopandas\n",
    "import contextily\n",
    "\n",
    "import matplotlib as mpl\n",
    "mpl.rcParams[\"figure.facecolor\"]  = '0.95'\n",
    "mpl.rcParams[\"figure.figsize\"]  = (10,10)"
   ],
   "metadata": {
    "collapsed": false,
    "pycharm": {
     "name": "#%%\n"
    }
   }
  },
  {
   "cell_type": "markdown",
   "source": [
    "## Prepare some data\n",
    "\n",
    "Let's get the parish from the Danish Addresses Web API, DAWA.\n",
    "First, we using the search API for parishes, then we get its geometry as GeoJSON\n",
    "with the right `format` parameter.\n",
    "\n",
    "See https://dawa.aws.dk/dok/api/generelt#dataformater for more information."
   ],
   "metadata": {
    "collapsed": false,
    "pycharm": {
     "name": "#%% md\n"
    }
   }
  },
  {
   "cell_type": "code",
   "execution_count": null,
   "outputs": [],
   "source": [
    "r = requests.get('https://dawa.aws.dk/sogne?navn=Rinken%C3%A6s')\n",
    "url = r.json()[0]['href']"
   ],
   "metadata": {
    "collapsed": false,
    "pycharm": {
     "name": "#%%\n"
    }
   }
  },
  {
   "cell_type": "code",
   "execution_count": null,
   "outputs": [],
   "source": [
    "# We can get it like so...\n",
    "r = requests.get(url, params={'format':'geojson'})\n",
    "geo_info = r.json()\n",
    "geometry = geo_info.geometry"
   ],
   "metadata": {
    "collapsed": false,
    "pycharm": {
     "name": "#%%\n"
    }
   }
  },
  {
   "cell_type": "code",
   "execution_count": null,
   "outputs": [],
   "source": [
    "# But it is even easier to load it directly into GeoPandas from the URL\n",
    "gdf = geopandas.read_file(r.url)\n",
    "gdf.head()"
   ],
   "metadata": {
    "collapsed": false,
    "pycharm": {
     "name": "#%%\n"
    }
   }
  },
  {
   "cell_type": "markdown",
   "source": [
    "This is what _Rinkenæs Sogn_ looks like:"
   ],
   "metadata": {
    "collapsed": false,
    "pycharm": {
     "name": "#%% md\n"
    }
   }
  },
  {
   "cell_type": "code",
   "execution_count": null,
   "outputs": [],
   "source": [
    "ax = gdf.plot(color='b', alpha=0.5)\n",
    "contextily.add_basemap(ax, crs=gdf.crs.to_string(), source=contextily.providers.OpenStreetMap.Mapnik)\n",
    "ax.set_title('Rinkenæs Sogn');"
   ],
   "metadata": {
    "collapsed": false,
    "pycharm": {
     "name": "#%%\n"
    }
   }
  },
  {
   "cell_type": "code",
   "execution_count": null,
   "outputs": [],
   "source": [
    "\n"
   ],
   "metadata": {
    "collapsed": false,
    "pycharm": {
     "name": "#%%\n"
    }
   }
  }
 ],
 "metadata": {
  "kernelspec": {
   "display_name": "Python 3",
   "language": "python",
   "name": "python3"
  },
  "language_info": {
   "codemirror_mode": {
    "name": "ipython",
    "version": 2
   },
   "file_extension": ".py",
   "mimetype": "text/x-python",
   "name": "python",
   "nbconvert_exporter": "python",
   "pygments_lexer": "ipython2",
   "version": "2.7.6"
  }
 },
 "nbformat": 4,
 "nbformat_minor": 0
}